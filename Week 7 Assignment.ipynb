{
 "cells": [
  {
   "cell_type": "markdown",
   "metadata": {},
   "source": [
    "## Import pandas, numpy"
   ]
  },
  {
   "cell_type": "code",
   "execution_count": 1,
   "metadata": {},
   "outputs": [],
   "source": [
    "import numpy as np\n",
    "import pandas as pd"
   ]
  },
  {
   "cell_type": "markdown",
   "metadata": {},
   "source": [
    "## Read the .csv file and display data"
   ]
  },
  {
   "cell_type": "code",
   "execution_count": 3,
   "metadata": {
    "scrolled": true
   },
   "outputs": [
    {
     "data": {
      "text/html": [
       "<div>\n",
       "<style scoped>\n",
       "    .dataframe tbody tr th:only-of-type {\n",
       "        vertical-align: middle;\n",
       "    }\n",
       "\n",
       "    .dataframe tbody tr th {\n",
       "        vertical-align: top;\n",
       "    }\n",
       "\n",
       "    .dataframe thead th {\n",
       "        text-align: right;\n",
       "    }\n",
       "</style>\n",
       "<table border=\"1\" class=\"dataframe\">\n",
       "  <thead>\n",
       "    <tr style=\"text-align: right;\">\n",
       "      <th></th>\n",
       "      <th>Fight Club</th>\n",
       "      <th>Mad Max (2015)</th>\n",
       "      <th>John Wick</th>\n",
       "      <th>Gladiator</th>\n",
       "      <th>Baby Driver</th>\n",
       "      <th>Kingsman</th>\n",
       "    </tr>\n",
       "  </thead>\n",
       "  <tbody>\n",
       "    <tr>\n",
       "      <th>Mark</th>\n",
       "      <td>5.0</td>\n",
       "      <td>5.0</td>\n",
       "      <td>5</td>\n",
       "      <td>4</td>\n",
       "      <td>5</td>\n",
       "      <td>4</td>\n",
       "    </tr>\n",
       "    <tr>\n",
       "      <th>Lucas</th>\n",
       "      <td>5.0</td>\n",
       "      <td>3.5</td>\n",
       "      <td>3</td>\n",
       "      <td>5</td>\n",
       "      <td>2</td>\n",
       "      <td>2</td>\n",
       "    </tr>\n",
       "    <tr>\n",
       "      <th>Elijah</th>\n",
       "      <td>4.5</td>\n",
       "      <td>3.0</td>\n",
       "      <td>5</td>\n",
       "      <td>3</td>\n",
       "      <td>4</td>\n",
       "      <td>4</td>\n",
       "    </tr>\n",
       "    <tr>\n",
       "      <th>Brandon</th>\n",
       "      <td>3.0</td>\n",
       "      <td>3.0</td>\n",
       "      <td>4</td>\n",
       "      <td>3</td>\n",
       "      <td>3</td>\n",
       "      <td>5</td>\n",
       "    </tr>\n",
       "    <tr>\n",
       "      <th>Max</th>\n",
       "      <td>3.5</td>\n",
       "      <td>5.0</td>\n",
       "      <td>3</td>\n",
       "      <td>2</td>\n",
       "      <td>3</td>\n",
       "      <td>4</td>\n",
       "    </tr>\n",
       "  </tbody>\n",
       "</table>\n",
       "</div>"
      ],
      "text/plain": [
       "         Fight Club  Mad Max (2015)  John Wick  Gladiator  Baby Driver  \\\n",
       "Mark            5.0             5.0          5          4            5   \n",
       "Lucas           5.0             3.5          3          5            2   \n",
       "Elijah          4.5             3.0          5          3            4   \n",
       "Brandon         3.0             3.0          4          3            3   \n",
       "Max             3.5             5.0          3          2            3   \n",
       "\n",
       "         Kingsman  \n",
       "Mark            4  \n",
       "Lucas           2  \n",
       "Elijah          4  \n",
       "Brandon         5  \n",
       "Max             4  "
      ]
     },
     "execution_count": 3,
     "metadata": {},
     "output_type": "execute_result"
    }
   ],
   "source": [
    "Movie_Reviews = pd.read_csv('Reviews.csv', index_col = 0)\n",
    "Movie_Reviews"
   ]
  },
  {
   "cell_type": "markdown",
   "metadata": {},
   "source": [
    "## The average rating of the individuals."
   ]
  },
  {
   "cell_type": "code",
   "execution_count": 4,
   "metadata": {},
   "outputs": [
    {
     "data": {
      "text/plain": [
       "Fight Club        4.2\n",
       "Mad Max (2015)    3.9\n",
       "John Wick         4.0\n",
       "Gladiator         3.4\n",
       "Baby Driver       3.4\n",
       "Kingsman          3.8\n",
       "dtype: float64"
      ]
     },
     "execution_count": 4,
     "metadata": {},
     "output_type": "execute_result"
    }
   ],
   "source": [
    "Movie_Reviews.mean().round(2)"
   ]
  },
  {
   "cell_type": "markdown",
   "metadata": {},
   "source": [
    "## Normalized data"
   ]
  },
  {
   "cell_type": "code",
   "execution_count": 9,
   "metadata": {
    "scrolled": true,
    "tags": []
   },
   "outputs": [
    {
     "data": {
      "text/html": [
       "<div>\n",
       "<style scoped>\n",
       "    .dataframe tbody tr th:only-of-type {\n",
       "        vertical-align: middle;\n",
       "    }\n",
       "\n",
       "    .dataframe tbody tr th {\n",
       "        vertical-align: top;\n",
       "    }\n",
       "\n",
       "    .dataframe thead th {\n",
       "        text-align: right;\n",
       "    }\n",
       "</style>\n",
       "<table border=\"1\" class=\"dataframe\">\n",
       "  <thead>\n",
       "    <tr style=\"text-align: right;\">\n",
       "      <th></th>\n",
       "      <th>Fight Club</th>\n",
       "      <th>Mad Max (2015)</th>\n",
       "      <th>John Wick</th>\n",
       "      <th>Gladiator</th>\n",
       "      <th>Baby Driver</th>\n",
       "      <th>Kingsman</th>\n",
       "    </tr>\n",
       "  </thead>\n",
       "  <tbody>\n",
       "    <tr>\n",
       "      <th>Mark</th>\n",
       "      <td>1.00</td>\n",
       "      <td>1.00</td>\n",
       "      <td>1.0</td>\n",
       "      <td>0.666667</td>\n",
       "      <td>1.000000</td>\n",
       "      <td>0.666667</td>\n",
       "    </tr>\n",
       "    <tr>\n",
       "      <th>Lucas</th>\n",
       "      <td>1.00</td>\n",
       "      <td>0.25</td>\n",
       "      <td>0.0</td>\n",
       "      <td>1.000000</td>\n",
       "      <td>0.000000</td>\n",
       "      <td>0.000000</td>\n",
       "    </tr>\n",
       "    <tr>\n",
       "      <th>Elijah</th>\n",
       "      <td>0.75</td>\n",
       "      <td>0.00</td>\n",
       "      <td>1.0</td>\n",
       "      <td>0.333333</td>\n",
       "      <td>0.666667</td>\n",
       "      <td>0.666667</td>\n",
       "    </tr>\n",
       "    <tr>\n",
       "      <th>Brandon</th>\n",
       "      <td>0.00</td>\n",
       "      <td>0.00</td>\n",
       "      <td>0.5</td>\n",
       "      <td>0.333333</td>\n",
       "      <td>0.333333</td>\n",
       "      <td>1.000000</td>\n",
       "    </tr>\n",
       "    <tr>\n",
       "      <th>Max</th>\n",
       "      <td>0.25</td>\n",
       "      <td>1.00</td>\n",
       "      <td>0.0</td>\n",
       "      <td>0.000000</td>\n",
       "      <td>0.333333</td>\n",
       "      <td>0.666667</td>\n",
       "    </tr>\n",
       "  </tbody>\n",
       "</table>\n",
       "</div>"
      ],
      "text/plain": [
       "         Fight Club  Mad Max (2015)  John Wick  Gladiator  Baby Driver  \\\n",
       "Mark           1.00            1.00        1.0   0.666667     1.000000   \n",
       "Lucas          1.00            0.25        0.0   1.000000     0.000000   \n",
       "Elijah         0.75            0.00        1.0   0.333333     0.666667   \n",
       "Brandon        0.00            0.00        0.5   0.333333     0.333333   \n",
       "Max            0.25            1.00        0.0   0.000000     0.333333   \n",
       "\n",
       "         Kingsman  \n",
       "Mark     0.666667  \n",
       "Lucas    0.000000  \n",
       "Elijah   0.666667  \n",
       "Brandon  1.000000  \n",
       "Max      0.666667  "
      ]
     },
     "execution_count": 9,
     "metadata": {},
     "output_type": "execute_result"
    }
   ],
   "source": [
    "Normalized_Ratings = (Movie_Reviews - Movie_Reviews.min()) / (Movie_Reviews.max() - Movie_Reviews.min())\n",
    "\n",
    "Normalized_Ratings"
   ]
  },
  {
   "cell_type": "markdown",
   "metadata": {},
   "source": [
    "## Display normalized average ratings of each individual"
   ]
  },
  {
   "cell_type": "code",
   "execution_count": 11,
   "metadata": {},
   "outputs": [
    {
     "data": {
      "text/plain": [
       "Mark       0.888889\n",
       "Lucas      0.375000\n",
       "Elijah     0.569444\n",
       "Brandon    0.361111\n",
       "Max        0.375000\n",
       "dtype: float64"
      ]
     },
     "execution_count": 11,
     "metadata": {},
     "output_type": "execute_result"
    },
    {
     "data": {
      "image/png": "[encoded data removed]",
      "text/plain": [
       "<Figure size 432x288 with 1 Axes>"
      ]
     },
     "metadata": {
      "needs_background": "light"
     },
     "output_type": "display_data"
    }
   ],
   "source": [
    "Normalized_Ratings.mean(axis = 1).plot()\n",
    "Normalized_Ratings.mean(axis = 1)"
   ]
  },
  {
   "cell_type": "markdown",
   "metadata": {},
   "source": [
    "# Normalized ratings have the advantage of providing users with a better scale picture of \"normal\" data that may be plotted in graphs. The 'null' values are a drawback of normalized data. Null values are created when data is normalized, making it unreliable and misleading. "
   ]
  },
  {
   "cell_type": "markdown",
   "metadata": {},
   "source": [
    "## Extra Credit:"
   ]
  },
  {
   "cell_type": "code",
   "execution_count": 12,
   "metadata": {},
   "outputs": [
    {
     "data": {
      "text/html": [
       "<div>\n",
       "<style scoped>\n",
       "    .dataframe tbody tr th:only-of-type {\n",
       "        vertical-align: middle;\n",
       "    }\n",
       "\n",
       "    .dataframe tbody tr th {\n",
       "        vertical-align: top;\n",
       "    }\n",
       "\n",
       "    .dataframe thead th {\n",
       "        text-align: right;\n",
       "    }\n",
       "</style>\n",
       "<table border=\"1\" class=\"dataframe\">\n",
       "  <thead>\n",
       "    <tr style=\"text-align: right;\">\n",
       "      <th></th>\n",
       "      <th>Fight Club</th>\n",
       "      <th>Mad Max (2015)</th>\n",
       "      <th>John Wick</th>\n",
       "      <th>Gladiator</th>\n",
       "      <th>Baby Driver</th>\n",
       "      <th>Kingsman</th>\n",
       "    </tr>\n",
       "  </thead>\n",
       "  <tbody>\n",
       "    <tr>\n",
       "      <th>Mark</th>\n",
       "      <td>0.880771</td>\n",
       "      <td>1.07349</td>\n",
       "      <td>1.0</td>\n",
       "      <td>0.526235</td>\n",
       "      <td>1.403293</td>\n",
       "      <td>0.182574</td>\n",
       "    </tr>\n",
       "    <tr>\n",
       "      <th>Lucas</th>\n",
       "      <td>0.880771</td>\n",
       "      <td>-0.39036</td>\n",
       "      <td>-1.0</td>\n",
       "      <td>1.403293</td>\n",
       "      <td>-1.227881</td>\n",
       "      <td>-1.643168</td>\n",
       "    </tr>\n",
       "    <tr>\n",
       "      <th>Elijah</th>\n",
       "      <td>0.330289</td>\n",
       "      <td>-0.87831</td>\n",
       "      <td>1.0</td>\n",
       "      <td>-0.350823</td>\n",
       "      <td>0.526235</td>\n",
       "      <td>0.182574</td>\n",
       "    </tr>\n",
       "    <tr>\n",
       "      <th>Brandon</th>\n",
       "      <td>-1.321157</td>\n",
       "      <td>-0.87831</td>\n",
       "      <td>0.0</td>\n",
       "      <td>-0.350823</td>\n",
       "      <td>-0.350823</td>\n",
       "      <td>1.095445</td>\n",
       "    </tr>\n",
       "    <tr>\n",
       "      <th>Max</th>\n",
       "      <td>-0.770675</td>\n",
       "      <td>1.07349</td>\n",
       "      <td>-1.0</td>\n",
       "      <td>-1.227881</td>\n",
       "      <td>-0.350823</td>\n",
       "      <td>0.182574</td>\n",
       "    </tr>\n",
       "  </tbody>\n",
       "</table>\n",
       "</div>"
      ],
      "text/plain": [
       "         Fight Club  Mad Max (2015)  John Wick  Gladiator  Baby Driver  \\\n",
       "Mark       0.880771         1.07349        1.0   0.526235     1.403293   \n",
       "Lucas      0.880771        -0.39036       -1.0   1.403293    -1.227881   \n",
       "Elijah     0.330289        -0.87831        1.0  -0.350823     0.526235   \n",
       "Brandon   -1.321157        -0.87831        0.0  -0.350823    -0.350823   \n",
       "Max       -0.770675         1.07349       -1.0  -1.227881    -0.350823   \n",
       "\n",
       "         Kingsman  \n",
       "Mark     0.182574  \n",
       "Lucas   -1.643168  \n",
       "Elijah   0.182574  \n",
       "Brandon  1.095445  \n",
       "Max      0.182574  "
      ]
     },
     "execution_count": 12,
     "metadata": {},
     "output_type": "execute_result"
    }
   ],
   "source": [
    "standardized_Ratings = (Movie_Ratings - Movie_Ratings.mean())/Movie_Ratings.std()\n",
    "standardized_Ratings"
   ]
  },
  {
   "cell_type": "markdown",
   "metadata": {},
   "source": [
    "# Display average standarized ratings of reviewers"
   ]
  },
  {
   "cell_type": "code",
   "execution_count": 13,
   "metadata": {},
   "outputs": [
    {
     "data": {
      "text/plain": [
       "Mark       0.844394\n",
       "Lucas     -0.329558\n",
       "Elijah     0.134994\n",
       "Brandon   -0.300945\n",
       "Max       -0.348886\n",
       "dtype: float64"
      ]
     },
     "execution_count": 13,
     "metadata": {},
     "output_type": "execute_result"
    },
    {
     "data": {
      "image/png": "[encoded data removed]",
      "text/plain": [
       "<Figure size 432x288 with 1 Axes>"
      ]
     },
     "metadata": {
      "needs_background": "light"
     },
     "output_type": "display_data"
    }
   ],
   "source": [
    "standardized_Ratings.mean(axis=1).plot()\n",
    "standardized_Ratings.mean(axis=1)"
   ]
  },
  {
   "cell_type": "markdown",
   "metadata": {},
   "source": [
    "## Display average standarized ratings of each movie"
   ]
  },
  {
   "cell_type": "code",
   "execution_count": 14,
   "metadata": {},
   "outputs": [
    {
     "data": {
      "text/plain": [
       "Fight Club       -1.776357e-16\n",
       "Mad Max (2015)    8.881784e-17\n",
       "John Wick         0.000000e+00\n",
       "Gladiator         4.440892e-17\n",
       "Baby Driver       6.661338e-17\n",
       "Kingsman          1.609823e-16\n",
       "dtype: float64"
      ]
     },
     "execution_count": 14,
     "metadata": {},
     "output_type": "execute_result"
    },
    {
     "data": {
      "image/png": "[encoded data removed]",
      "text/plain": [
       "<Figure size 432x288 with 1 Axes>"
      ]
     },
     "metadata": {
      "needs_background": "light"
     },
     "output_type": "display_data"
    }
   ],
   "source": [
    "standardized_Ratings.mean(axis=0).plot()\n",
    "standardized_Ratings.mean(axis=0)"
   ]
  }
 ],
 "metadata": {
  "kernelspec": {
   "display_name": "Python 3",
   "language": "python",
   "name": "python3"
  },
  "language_info": {
   "codemirror_mode": {
    "name": "ipython",
    "version": 3
   },
   "file_extension": ".py",
   "mimetype": "text/x-python",
   "name": "python",
   "nbconvert_exporter": "python",
   "pygments_lexer": "ipython3",
   "version": "3.8.8"
  }
 },
 "nbformat": 4,
 "nbformat_minor": 4
}
